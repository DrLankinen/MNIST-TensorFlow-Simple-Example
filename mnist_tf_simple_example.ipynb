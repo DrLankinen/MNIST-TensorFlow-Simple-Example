{
 "cells": [
  {
   "cell_type": "code",
   "execution_count": null,
   "metadata": {},
   "outputs": [],
   "source": [
    "import numpy as np\n",
    "import tensorflow as tf\n",
    "from sklearn.cross_validation import train_test_split\n",
    "import os\n",
    "import random\n",
    "from PIL import Image"
   ]
  },
  {
   "cell_type": "code",
   "execution_count": null,
   "metadata": {},
   "outputs": [],
   "source": [
    "from tensorflow.examples.tutorials.mnist import input_data\n",
    "mnist = input_data.read_data_sets(\"MNIST_data/\", one_hot=True)"
   ]
  },
  {
   "cell_type": "code",
   "execution_count": 3,
   "metadata": {},
   "outputs": [],
   "source": [
    "img_shape = np.array([28,28])\n",
    "num_input = img_shape[0] * img_shape[1]\n",
    "num_classes = 10\n",
    "\n",
    "drop_out = 0.2\n",
    "learning_rate = 0.001\n",
    "epochs = 5\n",
    "batch_size = 128\n",
    "display_step = float(\"inf\")"
   ]
  },
  {
   "cell_type": "code",
   "execution_count": 4,
   "metadata": {},
   "outputs": [],
   "source": [
    "X_TF = tf.placeholder(tf.float32, [None, num_input])\n",
    "Y_TF = tf.placeholder(tf.float32, [None, num_classes])\n",
    "DROP_OUT_TF = tf.placeholder(tf.float32)"
   ]
  },
  {
   "cell_type": "code",
   "execution_count": 5,
   "metadata": {},
   "outputs": [],
   "source": [
    "def conv_net(X_TF, DROP_OUT):\n",
    "    X_TF = tf.reshape(X_TF, shape=[-1, img_shape[0], img_shape[1], 1])\n",
    "    \n",
    "    conv1 = tf.layers.conv2d(\n",
    "        inputs=X_TF,\n",
    "        filters=32,\n",
    "        kernel_size=[5,5],\n",
    "        padding=\"same\",\n",
    "        activation=tf.nn.relu)\n",
    "    pool1 = tf.layers.max_pooling2d(inputs=conv1,pool_size=[2,2],strides=2)\n",
    "    \n",
    "    conv2 = tf.layers.conv2d(\n",
    "        inputs=pool1,\n",
    "        filters=64,\n",
    "        kernel_size=[5,5],\n",
    "        padding=\"same\",\n",
    "        activation=tf.nn.relu)\n",
    "    pool2 = tf.layers.max_pooling2d(inputs=conv2,pool_size=[2,2],strides=2)\n",
    "    \n",
    "    pool2_flat = tf.reshape(pool2,[-1,7*7*64])\n",
    "    dense = tf.layers.dense(inputs=pool2_flat,units=1024,activation=tf.nn.relu)\n",
    "    dropout = tf.layers.dropout(\n",
    "        inputs=dense,\n",
    "        rate=DROP_OUT)\n",
    "\n",
    "    return tf.layers.dense(inputs=dropout,units=num_classes)"
   ]
  },
  {
   "cell_type": "code",
   "execution_count": 6,
   "metadata": {},
   "outputs": [],
   "source": [
    "logits = conv_net(X_TF,DROP_OUT_TF)\n",
    "prediction = tf.nn.softmax(logits)\n",
    "\n",
    "cost = tf.reduce_mean(-tf.reduce_sum(Y_TF * tf.log(prediction), reduction_indices=[1]))\n",
    "optimizer = tf.train.AdamOptimizer(learning_rate).minimize(cost)\n",
    "\n",
    "correct_prediction = tf.equal(tf.argmax(prediction, 1), tf.argmax(Y_TF, 1))\n",
    "accuracy = tf.reduce_mean(tf.cast(correct_prediction, tf.float32))"
   ]
  },
  {
   "cell_type": "code",
   "execution_count": 7,
   "metadata": {},
   "outputs": [
    {
     "name": "stdout",
     "output_type": "stream",
     "text": [
      "step: 0 - epoch: 0\n",
      "y_hat: [9 9 9 9 9]\n",
      "y    : [7 2 1 0 4]\n",
      "train_cost: 2.1813705\n",
      "valid_cost: 2.1981673\n",
      "Accuracy: 0.1726\n",
      "________________________________________\n",
      "step: 0 - epoch: 1\n",
      "y_hat: [7 2 1 0 4]\n",
      "y    : [7 2 1 0 4]\n",
      "train_cost: 0.049073067\n",
      "valid_cost: 0.049914464\n",
      "Accuracy: 0.9852\n",
      "________________________________________\n",
      "step: 0 - epoch: 2\n",
      "y_hat: [7 2 1 0 4]\n",
      "y    : [7 2 1 0 4]\n",
      "train_cost: 0.039295744\n",
      "valid_cost: 0.038178977\n",
      "Accuracy: 0.9904\n",
      "________________________________________\n",
      "step: 0 - epoch: 3\n",
      "y_hat: [7 2 1 0 4]\n",
      "y    : [7 2 1 0 4]\n",
      "train_cost: 0.03736692\n",
      "valid_cost: 0.039528683\n",
      "Accuracy: 0.9892\n",
      "________________________________________\n",
      "step: 0 - epoch: 4\n",
      "y_hat: [7 2 1 0 4]\n",
      "y    : [7 2 1 0 4]\n",
      "train_cost: 0.016135832\n",
      "valid_cost: 0.03878895\n",
      "Accuracy: 0.9894\n",
      "________________________________________\n",
      "\n",
      "\n",
      "Optimization Finished!\n",
      "Test accuracy: 0.9904\n"
     ]
    }
   ],
   "source": [
    "with tf.Session() as sess:\n",
    "    sess.run(tf.global_variables_initializer())\n",
    "    \n",
    "    for epoch in range(epochs):\n",
    "        num_steps = int(len(mnist.train.labels)/batch_size)\n",
    "        for step in range(num_steps):\n",
    "            batch_x, batch_y = mnist.train.next_batch(batch_size)\n",
    "            sess.run(optimizer, feed_dict={X_TF: batch_x, Y_TF: batch_y, DROP_OUT_TF:drop_out})\n",
    "            if step % display_step == 0:\n",
    "                print(\"step:\",step,\"- epoch:\",epoch)\n",
    "                test_pred = sess.run(prediction,feed_dict={X_TF: mnist.test.images[:5]})\n",
    "                print(\"y_hat:\",np.argmax(test_pred,axis=1))\n",
    "                print(\"y    :\",np.argmax(mnist.test.labels[:5],axis=1))\n",
    "                print(\"train_cost:\",sess.run(cost,feed_dict={X_TF:mnist.train.images[:1000],Y_TF:mnist.train.labels[:1000],DROP_OUT_TF:0}))\n",
    "                print(\"valid_cost:\",sess.run(cost,feed_dict={X_TF:mnist.validation.images,Y_TF:mnist.validation.labels,DROP_OUT_TF:0}))\n",
    "                print(\"Accuracy:\",sess.run(accuracy, feed_dict={X_TF:mnist.validation.images,Y_TF:mnist.validation.labels,DROP_OUT_TF:0}))\n",
    "                print(\"________________________________________\")\n",
    "\n",
    "    print()\n",
    "    print()\n",
    "    print(\"Optimization Finished!\")\n",
    "    print(\"Test accuracy:\",sess.run(accuracy, feed_dict={X_TF:mnist.test.images,Y_TF:mnist.test.labels,DROP_OUT_TF:0}))"
   ]
  },
  {
   "cell_type": "code",
   "execution_count": null,
   "metadata": {},
   "outputs": [],
   "source": []
  }
 ],
 "metadata": {
  "kernelspec": {
   "display_name": "Python 3",
   "language": "python",
   "name": "python3"
  },
  "language_info": {
   "codemirror_mode": {
    "name": "ipython",
    "version": 3
   },
   "file_extension": ".py",
   "mimetype": "text/x-python",
   "name": "python",
   "nbconvert_exporter": "python",
   "pygments_lexer": "ipython3",
   "version": "3.6.4"
  }
 },
 "nbformat": 4,
 "nbformat_minor": 2
}
