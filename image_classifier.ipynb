{
 "cells": [
  {
   "cell_type": "code",
   "execution_count": null,
   "metadata": {},
   "outputs": [],
   "source": [
    "import numpy as np\n",
    "import tensorflow as tf\n",
    "from sklearn.cross_validation import train_test_split\n",
    "import os\n",
    "import random\n",
    "from PIL import Image"
   ]
  },
  {
   "cell_type": "code",
   "execution_count": null,
   "metadata": {},
   "outputs": [],
   "source": [
    "from tensorflow.examples.tutorials.mnist import input_data\n",
    "mnist = input_data.read_data_sets(\"MNIST_data/\", one_hot=True)"
   ]
  },
  {
   "cell_type": "code",
   "execution_count": 23,
   "metadata": {},
   "outputs": [],
   "source": [
    "img_shape = np.array([28,28])\n",
    "num_input = img_shape[0] * img_shape[1]\n",
    "num_classes = 10\n",
    "\n",
    "drop_out_prob = 0.5\n",
    "learning_rate = 0.001\n",
    "num_steps = 100\n",
    "batch_size = 128\n",
    "display_step = 20"
   ]
  },
  {
   "cell_type": "code",
   "execution_count": 24,
   "metadata": {},
   "outputs": [],
   "source": [
    "X = tf.placeholder(tf.float32, [None, num_input])\n",
    "Y = tf.placeholder(tf.float32, [None, num_classes])\n",
    "drop_out = tf.placeholder(tf.float32)"
   ]
  },
  {
   "cell_type": "code",
   "execution_count": 32,
   "metadata": {},
   "outputs": [],
   "source": [
    "def conv_net(x, drop_out):\n",
    "    x = tf.reshape(x, shape=[-1, img_shape[0], img_shape[1], 1])\n",
    "    \n",
    "    conv1 = tf.layers.conv2d(\n",
    "        inputs=x,\n",
    "        filters=32,\n",
    "        kernel_size=[5,5],\n",
    "        padding=\"same\",\n",
    "        activation=tf.nn.relu)\n",
    "    pool1 = tf.layers.max_pooling2d(inputs=conv1,pool_size=[2,2],strides=2)\n",
    "    \n",
    "    conv2 = tf.layers.conv2d(\n",
    "        inputs=pool1,\n",
    "        filters=64,\n",
    "        kernel_size=[5,5],\n",
    "        padding=\"same\",\n",
    "        activation=tf.nn.relu)\n",
    "    pool2 = tf.layers.max_pooling2d(inputs=conv2,pool_size=[2,2],strides=2)\n",
    "    \n",
    "    pool2_flat = tf.reshape(pool2,[-1,7*7*64])\n",
    "    dense = tf.layers.dense(inputs=pool2_flat,units=1024,activation=tf.nn.relu)\n",
    "    dropout = tf.layers.dropout(\n",
    "        inputs=dense,\n",
    "        rate=drop_out)\n",
    "\n",
    "    return tf.layers.dense(inputs=dropout,units=num_classes)"
   ]
  },
  {
   "cell_type": "code",
   "execution_count": 33,
   "metadata": {},
   "outputs": [],
   "source": [
    "logits = conv_net(X,drop_out)\n",
    "prediction = tf.nn.softmax(logits)\n",
    "\n",
    "cross_entropy = tf.reduce_mean(-tf.reduce_sum(Y * tf.log(prediction), reduction_indices=[1]))\n",
    "\n",
    "correct_prediction = tf.equal(tf.argmax(prediction, 1), tf.argmax(Y, 1))\n",
    "accuracy = tf.reduce_mean(tf.cast(correct_prediction, tf.float32))\n",
    "\n",
    "train_step = tf.train.AdamOptimizer(learning_rate).minimize(cross_entropy)"
   ]
  },
  {
   "cell_type": "code",
   "execution_count": 34,
   "metadata": {},
   "outputs": [
    {
     "name": "stdout",
     "output_type": "stream",
     "text": [
      "step: 1\n",
      "prediction: [6 6 0 7 0]\n",
      "y predicts: [1 2 0 7 5]\n",
      "Cost: 2.184853\n",
      "Accuracy: 0.265625\n",
      "________________________________________\n",
      "step: 20\n",
      "prediction: [1 2 0 7 5]\n",
      "y predicts: [1 2 0 7 5]\n",
      "Cost: 0.56226885\n",
      "Accuracy: 0.8359375\n",
      "________________________________________\n",
      "step: 40\n",
      "prediction: [1 8 0 7 5]\n",
      "y predicts: [1 2 0 7 5]\n",
      "Cost: 0.2568093\n",
      "Accuracy: 0.890625\n",
      "________________________________________\n",
      "step: 60\n",
      "prediction: [1 2 0 7 5]\n",
      "y predicts: [1 2 0 7 5]\n",
      "Cost: 0.11632003\n",
      "Accuracy: 0.96875\n",
      "________________________________________\n",
      "step: 80\n",
      "prediction: [1 2 0 7 5]\n",
      "y predicts: [1 2 0 7 5]\n",
      "Cost: 0.07647233\n",
      "Accuracy: 0.984375\n",
      "________________________________________\n",
      "step: 100\n",
      "prediction: [1 2 0 7 5]\n",
      "y predicts: [1 2 0 7 5]\n",
      "Cost: 0.065568626\n",
      "Accuracy: 0.984375\n",
      "________________________________________\n",
      "Accuracy:\n",
      "100 0.984375\n",
      "Optimization Finished!\n",
      "Testing Accuracy: 0.9722\n"
     ]
    }
   ],
   "source": [
    "with tf.Session() as sess:\n",
    "    sess.run(tf.global_variables_initializer())\n",
    "\n",
    "    test_images,test_labels = mnist.test.next_batch(batch_size)\n",
    "    \n",
    "    for step in range(1, num_steps+1):\n",
    "        batch_x, batch_y = mnist.train.next_batch(batch_size)\n",
    "        sess.run(train_step, feed_dict={X: batch_x, Y: batch_y,drop_out:drop_out_prob})\n",
    "        if step % display_step == 0 or step == 1:\n",
    "            print(\"step:\",step)\n",
    "            pred = sess.run(prediction,feed_dict={X: test_images})\n",
    "            print(\"prediction:\",np.argmax(pred,axis=1)[:5])\n",
    "            print(\"y predicts:\",np.argmax(test_labels,axis=1)[:5])\n",
    "            print(\"Cost:\",sess.run(cross_entropy,feed_dict={X:test_images,Y:test_labels,drop_out:0}))\n",
    "            print(\"Accuracy:\",sess.run(accuracy, feed_dict={X:test_images,Y:test_labels,drop_out:0}))\n",
    "            print(\"________________________________________\")\n",
    "\n",
    "    print(\"Accuracy:\")\n",
    "    print(num_steps, sess.run(accuracy, feed_dict={X:test_images, Y:test_labels,drop_out:0}))\n",
    "            \n",
    "    print(\"Optimization Finished!\")\n",
    "\n",
    "    # Calculate accuracy for 256 MNIST test images\n",
    "    print(\"Testing Accuracy:\",\n",
    "        sess.run(accuracy, feed_dict={X: mnist.test.images,\n",
    "                                      Y: mnist.test.labels,\n",
    "                                      drop_out:0}))"
   ]
  },
  {
   "cell_type": "code",
   "execution_count": null,
   "metadata": {},
   "outputs": [],
   "source": []
  }
 ],
 "metadata": {
  "kernelspec": {
   "display_name": "Python 3",
   "language": "python",
   "name": "python3"
  },
  "language_info": {
   "codemirror_mode": {
    "name": "ipython",
    "version": 3
   },
   "file_extension": ".py",
   "mimetype": "text/x-python",
   "name": "python",
   "nbconvert_exporter": "python",
   "pygments_lexer": "ipython3",
   "version": "3.6.4"
  }
 },
 "nbformat": 4,
 "nbformat_minor": 2
}
